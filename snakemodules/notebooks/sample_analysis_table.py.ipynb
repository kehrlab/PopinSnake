{
 "cells": [
  {
   "cell_type": "code",
   "execution_count": null,
   "id": "05eafdc2",
   "metadata": {},
   "outputs": [],
   "source": [
    "%load_ext autoreload\n",
    "%autoreload 2"
   ]
  },
  {
   "cell_type": "code",
   "execution_count": null,
   "id": "93f77e67",
   "metadata": {},
   "outputs": [],
   "source": [
    "import os\n",
    "import sys\n",
    "import pandas as pd"
   ]
  },
  {
   "cell_type": "code",
   "execution_count": null,
   "id": "2a180ef6-7fff-4582-a0a5-6bfc949b14f7",
   "metadata": {},
   "outputs": [],
   "source": [
    "# If executing with snakemake, use the path below\n",
    "sys.path.append(snakemake.config[\"WORKFLOW_PATH\"]+'/snakemodules/notebooks/src/')\n",
    "# If executing directly with jupyter notebook from the commandline, use the path below\n",
    "# sys.path.append(os.getcwd()+'/src/')\n",
    "\n",
    "from stat_func import calculator\n",
    "from stat_func import visualization\n",
    "%matplotlib inline"
   ]
  },
  {
   "cell_type": "code",
   "execution_count": null,
   "id": "988392b7",
   "metadata": {},
   "outputs": [],
   "source": [
    "files = snakemake.input.contigs\n"
   ]
  },
  {
   "cell_type": "code",
   "execution_count": null,
   "id": "7cd418ab",
   "metadata": {},
   "outputs": [],
   "source": [
    "sample_names = []\n",
    "total_gc=[]\n",
    "contigs=[]\n",
    "N50_list=[]\n",
    "\n",
    "for fp in files:\n",
    "\n",
    "    folder_path = os.path.dirname(fp)\n",
    "    folder = os.path.basename(folder_path)\n",
    "    sample_names.append(folder)\n",
    "    \n",
    "    sample_gc = calculator.cal_gctable(fp)\n",
    "    total_gc.append(sample_gc)\n",
    "    \n",
    "    N_50, contigNum = calculator.cal_N50(fp)\n",
    "    N50_list.append(N_50)\n",
    "    contigs.append(contigNum)"
   ]
  },
  {
   "cell_type": "code",
   "execution_count": null,
   "id": "aed4d5a8",
   "metadata": {},
   "outputs": [],
   "source": [
    "df = pd.DataFrame()\n",
    "df['Samples']=sample_names\n",
    "df['Contig_number']=contigs\n",
    "df['GC_Content']=total_gc\n",
    "df['N50_value']=N50_list\n"
   ]
  },
  {
   "cell_type": "code",
   "execution_count": null,
   "id": "b0f8788c",
   "metadata": {},
   "outputs": [],
   "source": [
    "# create table contain GC_content, N50 values, Contig_numbers of samples\n",
    "fig,ax = visualization.render_mpl_table(df, header_columns=0, col_width=2.0)\n",
    "fig.savefig(snakemake.output[0], dpi=300, format=\"pdf\")\n",
    "df.to_csv(snakemake.output[1], sep='\\t', index=False)"
   ]
  },
  {
   "cell_type": "code",
   "execution_count": null,
   "id": "70ec6352-4f02-49f1-9ef7-e50afffb9412",
   "metadata": {},
   "outputs": [],
   "source": []
  },
  {
   "cell_type": "code",
   "execution_count": null,
   "id": "38c6e4f2-7af7-4aa9-ad0c-2864c3f15475",
   "metadata": {},
   "outputs": [],
   "source": []
  },
  {
   "cell_type": "code",
   "execution_count": null,
   "id": "720fd7e4-6ca4-4226-a364-d0004f8ba4d3",
   "metadata": {},
   "outputs": [],
   "source": []
  },
  {
   "cell_type": "code",
   "execution_count": null,
   "id": "9313dc1b-6b97-4cfc-959d-42eb1cf246a4",
   "metadata": {},
   "outputs": [],
   "source": []
  }
 ],
 "metadata": {
  "kernelspec": {
   "display_name": "Python 3 (ipykernel)",
   "language": "python",
   "name": "python3"
  },
  "language_info": {
   "codemirror_mode": {
    "name": "ipython",
    "version": 3
   },
   "file_extension": ".py",
   "mimetype": "text/x-python",
   "name": "python",
   "nbconvert_exporter": "python",
   "pygments_lexer": "ipython3",
   "version": "3.10.12"
  }
 },
 "nbformat": 4,
 "nbformat_minor": 5
}
