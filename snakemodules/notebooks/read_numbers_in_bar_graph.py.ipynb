{
 "cells": [
  {
   "cell_type": "code",
   "execution_count": null,
   "id": "8f2c7f1e",
   "metadata": {},
   "outputs": [],
   "source": [
    "%load_ext autoreload\n",
    "%autoreload 2"
   ]
  },
  {
   "cell_type": "code",
   "execution_count": null,
   "id": "e9cb92ab-fc91-4311-a745-3a03e0fbde3c",
   "metadata": {},
   "outputs": [],
   "source": [
    "import os\n",
    "import sys\n",
    "import pandas as pd\n",
    "import matplotlib.pyplot as plt\n",
    "import seaborn as sns"
   ]
  },
  {
   "cell_type": "code",
   "execution_count": null,
   "id": "f9489982",
   "metadata": {},
   "outputs": [],
   "source": [
    "# If executing with snakemake, use the path below\n",
    "sys.path.append(snakemake.config[\"WORKFLOW_PATH\"]+'/snakemodules/notebooks/src/')\n",
    "\n",
    "# If executing directly with jupyter notebook from the commandline, use the path below\n",
    "# sys.path.append(os.getcwd()+'/src/')\n",
    "from stat_func import calculator\n",
    "from stat_func import visualization\n",
    "%matplotlib inline"
   ]
  },
  {
   "cell_type": "code",
   "execution_count": null,
   "id": "6d70671b",
   "metadata": {},
   "outputs": [],
   "source": [
    "fastq1 = snakemake.input.paired1\n",
    "#fastq2 = snakemake.input.paired2\n",
    "single = snakemake.input.single\n"
   ]
  },
  {
   "cell_type": "code",
   "execution_count": null,
   "id": "48567039",
   "metadata": {},
   "outputs": [],
   "source": [
    "read_paired_fq,sample_names = visualization.fastq_read_num(fastq1)\n",
    "read_single_fq,sample_names = visualization.fastq_read_num(single)\n"
   ]
  },
  {
   "cell_type": "code",
   "execution_count": null,
   "id": "93a00353-0770-4e90-8cd5-a916b9d08625",
   "metadata": {},
   "outputs": [],
   "source": []
  },
  {
   "cell_type": "code",
   "execution_count": null,
   "id": "2dc4651c",
   "metadata": {},
   "outputs": [],
   "source": [
    "df = pd.DataFrame()\n",
    "df['samples']=sample_names\n",
    "df['read_number_paired']=calculator.double(read_paired_fq)\n",
    "df['read_number_single']=read_single_fq\n",
    "df['total'] = df['read_number_paired']+df['read_number_single']\n",
    "\n",
    "read_data = df.sort_values(by=['samples'])"
   ]
  },
  {
   "cell_type": "code",
   "execution_count": null,
   "id": "d9b63e80",
   "metadata": {},
   "outputs": [],
   "source": []
  },
  {
   "cell_type": "code",
   "execution_count": null,
   "id": "80f28248",
   "metadata": {},
   "outputs": [],
   "source": [
    "\n",
    "sns.set_theme(style=\"whitegrid\")\n",
    "\n",
    "# Initialize the matplotlib figure\n",
    "f, ax = plt.subplots(figsize=(3, 6))\n",
    "\n",
    "# Plot the total reads\n",
    "sns.set_color_codes(\"pastel\")\n",
    "sns.barplot(x=\"samples\", y=\"total\", data=read_data,\n",
    "            label=\"paired reads\", color=\"b\")\n",
    "\n",
    "# Plot the total single reads\n",
    "sns.set_color_codes(\"muted\")\n",
    "sns.barplot(x=\"samples\", y=\"read_number_single\", data=read_data,\n",
    "            label=\"single reads\", color=\"b\")\n",
    "sns.set(font_scale = 1)\n",
    "# Add a legend and informative axis label\n",
    "ax.legend(bbox_to_anchor=(1.02, 1),loc=\"upper left\", borderaxespad=0)\n",
    "plt.xticks(rotation=90)\n",
    "ax.set(ylabel=\"read numbers\",\n",
    "       xlabel=\"genomes\")\n",
    "\n",
    "sns.despine(left=True, bottom=True)\n",
    "plt.savefig(snakemake.output[0], dpi=300, format=\"pdf\", bbox_inches = 'tight')\n",
    "read_data.to_csv(snakemake.output[1], sep='\\t', index=False)\n",
    "# plt.show()"
   ]
  },
  {
   "cell_type": "code",
   "execution_count": null,
   "id": "d18c4eaa",
   "metadata": {},
   "outputs": [],
   "source": []
  },
  {
   "cell_type": "code",
   "execution_count": null,
   "id": "4913e41e",
   "metadata": {},
   "outputs": [],
   "source": []
  }
 ],
 "metadata": {
  "kernelspec": {
   "display_name": "Python 3 (ipykernel)",
   "language": "python",
   "name": "python3"
  },
  "language_info": {
   "codemirror_mode": {
    "name": "ipython",
    "version": 3
   },
   "file_extension": ".py",
   "mimetype": "text/x-python",
   "name": "python",
   "nbconvert_exporter": "python",
   "pygments_lexer": "ipython3",
   "version": "3.12.9"
  }
 },
 "nbformat": 4,
 "nbformat_minor": 5
}
