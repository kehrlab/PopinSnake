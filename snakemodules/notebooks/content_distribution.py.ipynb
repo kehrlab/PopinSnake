{
 "cells": [
  {
   "cell_type": "code",
   "execution_count": null,
   "metadata": {},
   "outputs": [],
   "source": [
    "%load_ext autoreload\n",
    "%autoreload 2"
   ]
  },
  {
   "cell_type": "code",
   "execution_count": null,
   "metadata": {},
   "outputs": [],
   "source": [
    "from Bio import SeqIO\n",
    "import os\n",
    "import sys\n",
    "import pandas as pd"
   ]
  },
  {
   "cell_type": "code",
   "execution_count": null,
   "metadata": {},
   "outputs": [],
   "source": [
    "# If executing with snakemake, use the path below\n",
    "sys.path.append(snakemake.config[\"WORKFLOW_PATH\"]+'/snakemodules/notebooks/src/')\n",
    "# If executing directly with jupyter notebook from the commandline, use the path below\n",
    "# sys.path.append(os.getcwd()+'/src/')\n",
    "\n",
    "from stat_func import calculator\n",
    "from stat_func import visualization\n",
    "%matplotlib inline"
   ]
  },
  {
   "cell_type": "markdown",
   "metadata": {},
   "source": [
    "### Input files"
   ]
  },
  {
   "cell_type": "code",
   "execution_count": null,
   "metadata": {},
   "outputs": [],
   "source": [
    "# If executing directly with jupyter notebook from the commandline, use the path below\n",
    "# import glob\n",
    "# all_samples = glob.glob('/home/kedic/popinSnake/workdir/**/**.contigs.fa')\n",
    "# If executing with snakemake, use the path below\n",
    "all_samples = snakemake.input.contigs"
   ]
  },
  {
   "cell_type": "code",
   "execution_count": null,
   "metadata": {},
   "outputs": [],
   "source": [
    "sample_seq = []\n",
    "for sample in all_samples:\n",
    "    seq_objects=SeqIO.parse(sample,'fasta')\n",
    "    sequences=[]\n",
    "    for seq in seq_objects:\n",
    "        sequences.append(seq)\n",
    "    sample_seq.append(sequences)"
   ]
  },
  {
   "cell_type": "code",
   "execution_count": null,
   "metadata": {},
   "outputs": [],
   "source": [
    "sample_names = []\n",
    "\n",
    "for fp in all_samples:   \n",
    "    folder_path = os.path.dirname(fp)\n",
    "    folder = os.path.basename(folder_path)\n",
    "    sample_names.append(folder)\n",
    "    sample_names.sort()"
   ]
  },
  {
   "cell_type": "markdown",
   "metadata": {},
   "source": [
    "### Apply functions"
   ]
  },
  {
   "cell_type": "code",
   "execution_count": null,
   "metadata": {},
   "outputs": [],
   "source": [
    "# Assuming sample_seq is defined and contains the sequence data\n",
    "sample_list, sample_dict = calculator.process_sequences(sample_seq, sample_names)\n"
   ]
  },
  {
   "cell_type": "code",
   "execution_count": null,
   "metadata": {},
   "outputs": [],
   "source": [
    "import json\n",
    "with open(snakemake.output.distribution,\"w\") as outfile:\n",
    "    json.dump(sample_list, outfile, indent=4)"
   ]
  },
  {
   "cell_type": "markdown",
   "metadata": {},
   "source": [
    "### Visualization"
   ]
  },
  {
   "cell_type": "code",
   "execution_count": null,
   "metadata": {},
   "outputs": [],
   "source": [
    "import matplotlib.pyplot as plt\n",
    "import scipy.stats as ss\n",
    "import numpy as np"
   ]
  },
  {
   "cell_type": "code",
   "execution_count": null,
   "metadata": {},
   "outputs": [],
   "source": [
    "# Combine all length data to determine the common bin edges\n",
    "all_lengths = np.concatenate([sample_dict[df]['Seq_LEN'] for df in sample_dict])\n",
    "# Define bin size and range for consistent binning across all subplots\n",
    "bin_min = np.min(all_lengths)\n",
    "bin_max = np.max(all_lengths) \n",
    "bin_size = 50  # Adjust bin size as needed\n",
    "bins = np.arange(bin_min, bin_max + bin_size, bin_size)  # Consistent bin edges\n",
    "\n",
    "f, axs = plt.subplots(len(sample_dict), 1, figsize=(10, 20))\n",
    "len_csv_data=[]\n",
    "\n",
    "# Loop through each sample and plot\n",
    "for i, df in enumerate(sample_dict):\n",
    "    \n",
    "    len_dist = sample_dict[df]['Seq_LEN']\n",
    "    \n",
    "    # Fit a normal distribution to the data\n",
    "    mu0, sigma0 = ss.norm.fit(len_dist)\n",
    "   \n",
    "    # Use consistent bins for histogram\n",
    "    values, bins0, _ = axs[i].hist(len_dist, bins=bins, density=True) \n",
    "    bin_centers0 = 0.5 * (bins0[1:] + bins0[:-1])\n",
    "    \n",
    "    # Compute and plot the PDF\n",
    "    pdf = ss.norm.pdf(x=bin_centers0, loc=mu0, scale=sigma0)\n",
    "    N50_value = calculator.calculate_N50(list(len_dist))\n",
    "\n",
    "    axs[i].plot(bin_centers0, pdf, label=\"PDF\", color='orange', linewidth=3)  # Plot PDF\n",
    "    axs[i].vlines(N50_value, 0, 0.002, colors='red', linestyles='dashed', label='N50')\n",
    "\n",
    "    # Set titles and labels\n",
    "    axs[i].set_title(df + '_Contig-Length Distribution')\n",
    "    axs[i].set(xlabel=\"contig length\")\n",
    "    axs[i].legend()\n",
    "    \n",
    "    # Set consistent x and y limits\n",
    "    # axs[i].set_xlim(0, 4300)\n",
    "    # axs[i].set_ylim(0, 0.002)\n",
    "\n",
    "    for bin_c, hist_v, pdf_v in zip(bin_centers0, values, pdf):\n",
    "        len_csv_data.append([df, bin_c, hist_v, pdf_v])\n",
    "\n",
    "# Convert collected data to DataFrame and save as CSV\n",
    "df_length = pd.DataFrame(len_csv_data, columns=['Sample', 'Bin_Center', 'Histogram_Value', 'PDF_Value'])\n",
    "df_length.to_csv(snakemake.output.len_txt, sep='\\t', index=False)\n",
    "\n",
    "\n",
    "# Adjust subplot layout\n",
    "plt.subplots_adjust(left=0.1,\n",
    "                    bottom=0.1,\n",
    "                    right=0.9,\n",
    "                    top=0.9,\n",
    "                    wspace=0.4,\n",
    "                    hspace=0.4)\n",
    "plt.tight_layout()\n",
    "plt.savefig(snakemake.output.len, dpi=300, format=\"pdf\")\n",
    "plt.show()"
   ]
  },
  {
   "cell_type": "code",
   "execution_count": null,
   "metadata": {},
   "outputs": [],
   "source": [
    "# Combine all GC content data to determine the common bin edges\n",
    "all_gc_contents = np.concatenate([sample_dict[df]['GC_Content'] for df in sample_dict])\n",
    "\n",
    "# Define bin size and range for consistent binning across all subplots\n",
    "gc_min = np.min(all_gc_contents)\n",
    "gc_max = np.max(all_gc_contents)\n",
    "bin_size = 20  # Adjust bin size if necessary\n",
    "bins = np.linspace(gc_min, gc_max, bin_size)  # Consistent bin edges\n",
    "\n",
    "f, axs = plt.subplots(len(sample_dict), 1, figsize=(10, 20))\n",
    "\n",
    "gc_csv_data=[]\n",
    "\n",
    "# Loop through each sample and plot\n",
    "for i, df in enumerate(sample_dict):\n",
    "    gc_dist = sample_dict[df]['GC_Content']\n",
    "    \n",
    "    # Fit a normal distribution to the data\n",
    "    mu1, sigma1 = ss.norm.fit(gc_dist)\n",
    "\n",
    "    # Use consistent bins for the histogram\n",
    "    values, bins1, _ = axs[i].hist(gc_dist, bins=bins, density=True)\n",
    "    bin_centers1 = 0.5 * (bins1[1:] + bins1[:-1])\n",
    "    \n",
    "    # Compute and plot the PDF\n",
    "    pdf = ss.norm.pdf(x=bin_centers1, loc=mu1, scale=sigma1)\n",
    "    axs[i].plot(bin_centers1, pdf, label=\"PDF\", color='orange', linewidth=3)  # Plot PDF\n",
    "    \n",
    "    # Set titles and labels\n",
    "    axs[i].set_title(df + '_GC-content distribution')\n",
    "    axs[i].set(xlabel=\"GC percentage\")\n",
    "    axs[i].legend()\n",
    "\n",
    "    # Optional: Set consistent x and y limits (if needed, uncomment below)\n",
    "    # axs[i].set_xlim(gc_min, gc_max)\n",
    "    # axs[i].set_ylim(0, 0.1)\n",
    "\n",
    "    for bin_c, hist_v, pdf_v in zip(bin_centers0, values, pdf):\n",
    "        gc_csv_data.append([df, bin_c, hist_v, pdf_v])\n",
    "\n",
    "# Convert collected data to DataFrame and save as CSV\n",
    "df_gc = pd.DataFrame(gc_csv_data, columns=['Sample', 'Bin_Center', 'Histogram_Value', 'PDF_Value'])\n",
    "df_gc.to_csv(snakemake.output.gc_txt, sep='\\t', index=False)\n",
    "\n",
    "\n",
    "# Adjust subplot layout\n",
    "plt.subplots_adjust(left=0.1,\n",
    "                    bottom=0.1, \n",
    "                    right=0.9, \n",
    "                    top=0.9, \n",
    "                    wspace=0.4, \n",
    "                    hspace=0.4)\n",
    "plt.tight_layout()\n",
    "plt.savefig(snakemake.output.gc, dpi=300, bbox_inches='tight', format=\"pdf\")\n",
    "plt.show()"
   ]
  },
  {
   "cell_type": "code",
   "execution_count": null,
   "metadata": {},
   "outputs": [],
   "source": []
  }
 ],
 "metadata": {
  "kernelspec": {
   "display_name": "base",
   "language": "python",
   "name": "python3"
  },
  "language_info": {
   "codemirror_mode": {
    "name": "ipython",
    "version": 3
   },
   "file_extension": ".py",
   "mimetype": "text/x-python",
   "name": "python",
   "nbconvert_exporter": "python",
   "pygments_lexer": "ipython3",
   "version": "3.9.12"
  }
 },
 "nbformat": 4,
 "nbformat_minor": 4
}
