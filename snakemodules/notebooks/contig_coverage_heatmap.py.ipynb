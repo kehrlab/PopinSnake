{
 "cells": [
  {
   "cell_type": "code",
   "execution_count": 1,
   "id": "99f09a73-ce8c-46b0-87c1-0f2c801a63ca",
   "metadata": {},
   "outputs": [],
   "source": [
    "%load_ext autoreload\n",
    "%autoreload 2"
   ]
  },
  {
   "cell_type": "code",
   "execution_count": 2,
   "id": "0bcadc62-0e3e-41e7-ba9a-1623c666520f",
   "metadata": {},
   "outputs": [],
   "source": [
    "from Bio import SeqIO\n",
    "import glob\n",
    "import os\n",
    "import sys\n",
    "import pandas as pd\n",
    "import matplotlib.pyplot as plt\n",
    "import seaborn as sns"
   ]
  },
  {
   "cell_type": "code",
   "execution_count": 56,
   "id": "96c89b03-b6e0-4d20-a5ee-9df6607f79fb",
   "metadata": {},
   "outputs": [],
   "source": [
    "# If executing with snakemake, use the path below\n",
    "sys.path.append(snakemake.config[\"WORKFLOW_PATH\"]+'/snakemodules/notebooks/src/')\n",
    "# If executing directly with jupyter notebook from the commandline, use the path below\n",
    "# sys.path.append(os.getcwd()+'/src/')\n",
    "from stat_func import calculator\n",
    "from stat_func import visualization\n",
    "%matplotlib inline"
   ]
  },
  {
   "cell_type": "code",
   "execution_count": 57,
   "id": "b61116c6-48c1-40e5-8e7a-42f31b05bfe2",
   "metadata": {},
   "outputs": [],
   "source": [
    "# # Get the current working directory\n",
    "# print(\"Current Path:\", current_path)\n",
    "# # Navigate up two directories to reach '/home/usr/program'\n",
    "# print(\"Program Path:\", program_path)\n",
    "# Join 'results' to get the desired path\n",
    "# current_path = os.getcwd()\n",
    "# program_path = os.path.dirname(os.path.dirname(current_path))\n",
    "# results_path = os.path.join(program_path, 'results')\n",
    "\n",
    "# If executing with snakemake, use the path below\n",
    "results_path = os.path.join(os.getcwd(), 'results')\n",
    "print(\"Results Path:\", results_path)"
   ]
  },
  {
   "cell_type": "code",
   "execution_count": 63,
   "id": "496682dd-a457-4510-b611-34ebd28fbd4f",
   "metadata": {},
   "outputs": [],
   "source": [
    "# Use paths below for snakemake execution\n",
    "supercontigs = snakemake.input.fasta\n",
    "coverage_files = snakemake.input.cov\n",
    "\n",
    "# Use paths below for jupyter notebook execution\n",
    "# For jupyter notebook execution, supercontigs is a list after glob.glob\n",
    "# supercontig_fa = glob.glob('/home/kedic/popinSnake/results/supercontigs.fa')\n",
    "# supercontigs = supercontig_fa[0]\n",
    "# coverage_files = glob.glob('/home/kedic/popinSnake/workdir/**/coverage.txt')"
   ]
  },
  {
   "cell_type": "code",
   "execution_count": 65,
   "id": "e2c85a70-b05a-4ee3-b964-638639f9343a",
   "metadata": {},
   "outputs": [],
   "source": [
    "# For jupyter notebook execution, change supercontigs to supercontigs[0]\n",
    "seq_objects=SeqIO.parse(supercontigs,'fasta')\n",
    "sequences=[]\n",
    "for seq in seq_objects:\n",
    "    sequences.append(seq)\n",
    "\n",
    "num_of_contigs = len(sequences)"
   ]
  },
  {
   "cell_type": "code",
   "execution_count": 16,
   "id": "e88ab748-87cb-493d-b2c2-15134073d87d",
   "metadata": {},
   "outputs": [],
   "source": [
    "contig_id = []\n",
    "contig_length = []\n",
    "for record in sequences:\n",
    "    record_id = record.id\n",
    "    sequence = record.seq\n",
    "    length=len(sequence)\n",
    "    contig_id.append(record_id)\n",
    "    contig_length.append(length)"
   ]
  },
  {
   "cell_type": "code",
   "execution_count": 44,
   "id": "95441eb2-f5dd-42b0-bae1-c43f5b4b0cb6",
   "metadata": {},
   "outputs": [],
   "source": [
    "df_sort_contig = pd.DataFrame({\n",
    "    'contig_id':contig_id,\n",
    "    'contig_length':contig_length\n",
    "})\n",
    "df_sort_contig = df_sort_contig.sort_values(by=['contig_length'], ascending=True)\n",
    "order_by_length = df_sort_contig['contig_id'].tolist()"
   ]
  },
  {
   "cell_type": "code",
   "execution_count": 90,
   "id": "495f2814-9fcb-4843-a2b6-fc288301101a",
   "metadata": {},
   "outputs": [],
   "source": [
    "# Initialize an empty DataFrame to hold all coverage data\n",
    "coverage_df = pd.DataFrame()\n",
    "\n",
    "for file in coverage_files:\n",
    "    # Extract sample name from the filename\n",
    "    folder_path = os.path.dirname(file)\n",
    "    sample_name = os.path.basename(folder_path)\n",
    "    # Read the coverage data, skipping comment lines starting with '#'\n",
    "    df = pd.read_csv(file, sep='\\t')\n",
    "    # Select the contig name and mean depth columns\n",
    "    df = df[['#rname', 'meandepth']]\n",
    "    # Rename the mean depth column to the sample name\n",
    "    df.rename(columns={'meandepth': sample_name}, inplace=True)\n",
    "    if coverage_df.empty:\n",
    "        # Initialize the main DataFrame with the first sample\n",
    "        coverage_df = df\n",
    "    else:\n",
    "        # Merge with the main DataFrame on the contig name\n",
    "        coverage_df = pd.merge(coverage_df, df, on='#rname', how='outer')\n"
   ]
  },
  {
   "cell_type": "code",
   "execution_count": null,
   "id": "36f31bc9-8eaa-434a-9a81-6a97282fe469",
   "metadata": {},
   "outputs": [],
   "source": [
    "coverage_df.rename(columns={'#rname': 'contigs'}, inplace=True)\n",
    "coverage_df.set_index('contigs', inplace=True)"
   ]
  },
  {
   "cell_type": "code",
   "execution_count": null,
   "id": "345e2ab4",
   "metadata": {},
   "outputs": [],
   "source": [
    "coverage_df = coverage_df[coverage_df.index.str.startswith(\"contig_\")]\n",
    "coverage_df = coverage_df.reindex(order_by_length)"
   ]
  },
  {
   "cell_type": "code",
   "execution_count": null,
   "id": "ab7e6633",
   "metadata": {},
   "outputs": [],
   "source": [
    "coverage_df_cleaned = calculator.remove_outliers_replace_with_bounds(coverage_df)"
   ]
  },
  {
   "cell_type": "code",
   "execution_count": null,
   "id": "3f61507d-b554-4dfd-830c-fa3555cad215",
   "metadata": {},
   "outputs": [],
   "source": [
    "# Plot the heatmap\n",
    "sns.set(font_scale = 0.8)\n",
    "sns.heatmap(coverage_df_cleaned, annot=False, cmap='YlOrBr')\n",
    "plt.title('Coverage of Contigs')\n",
    "plt.xlabel('Samples')\n",
    "plt.ylabel('Contigs')\n",
    "\n",
    "plt.savefig(snakemake.output[0], dpi=400, format=\"pdf\", bbox_inches = 'tight')\n",
    "plt.show()"
   ]
  },
  {
   "cell_type": "code",
   "execution_count": null,
   "id": "b61cdb41-3f9e-48fa-86ca-3249642fd7b4",
   "metadata": {},
   "outputs": [],
   "source": [
    "coverage_df_cleaned.to_csv(snakemake.output[1], sep='\\t')\n",
    "df_sort_contig.to_csv(snakemake.output[2],sep='\\t', index=False)"
   ]
  },
  {
   "cell_type": "code",
   "execution_count": null,
   "id": "de6a634e-ab13-4297-b7c9-349cc69bad03",
   "metadata": {},
   "outputs": [],
   "source": []
  }
 ],
 "metadata": {
  "kernelspec": {
   "display_name": "base",
   "language": "python",
   "name": "python3"
  },
  "language_info": {
   "codemirror_mode": {
    "name": "ipython",
    "version": 3
   },
   "file_extension": ".py",
   "mimetype": "text/x-python",
   "name": "python",
   "nbconvert_exporter": "python",
   "pygments_lexer": "ipython3",
   "version": "3.9.12"
  }
 },
 "nbformat": 4,
 "nbformat_minor": 5
}
